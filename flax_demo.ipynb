{
 "cells": [
  {
   "cell_type": "code",
   "execution_count": 1,
   "metadata": {},
   "outputs": [],
   "source": [
    "from flax import nnx\n",
    "import numpy as np\n",
    "\n",
    "# layer = nnx.Linear(1, 1, rngs=nnx.Rngs(0))\n",
    "class Module(nnx.Module):\n",
    "    def __init__(self) -> None:\n",
    "        super().__init__()\n",
    "        self. layer = nnx.Linear(1, 1, rngs=nnx.Rngs(0))\n",
    "    def __call__(self, x):\n",
    "        return self.layer(x)\n",
    "\n",
    "layer = Module()\n",
    "\n",
    "x = np.random.randn(100)\n",
    "x_ = x.reshape((-1,1))\n",
    "y = 3*x+2"
   ]
  },
  {
   "cell_type": "code",
   "execution_count": 2,
   "metadata": {},
   "outputs": [],
   "source": [
    "%matplotlib widget\n",
    "# %matplotlib tk\n",
    "\n",
    "import matplotlib.pyplot as plt\n",
    "\n",
    "plt.clf()\n",
    "plt.plot(x, y, '.')\n",
    "plt.plot(x, layer(x.reshape((-1, 1))).flatten(), '.')\n",
    "plt.show()"
   ]
  },
  {
   "cell_type": "code",
   "execution_count": null,
   "metadata": {},
   "outputs": [],
   "source": [
    "import optax\n",
    "\n",
    "layer = Module()\n",
    "optim = nnx.Optimizer(layer, optax.sgd(0.1))\n",
    "def sse(module, x, y):\n",
    "    return np.mean((module(x).flatten()-y)**2)\n",
    "grad_fn = nnx.grad(sse)\n",
    "\n",
    "try:\n",
    "    print(\"Starting loop\")\n",
    "    while True:\n",
    "        y_ = layer(x_)\n",
    "        grad = grad_fn(layer, x_, y)\n",
    "        optim.update(grads=grad)\n",
    "        plt.cla()\n",
    "        plt.plot(x, y, '.')\n",
    "        plt.plot(x, layer(x.reshape((-1, 1))).flatten(), '.')\n",
    "        plt.pause(0.5)\n",
    "except KeyboardInterrupt:\n",
    "    pass \n",
    "        "
   ]
  },
  {
   "cell_type": "code",
   "execution_count": null,
   "metadata": {},
   "outputs": [],
   "source": []
  }
 ],
 "metadata": {
  "kernelspec": {
   "display_name": ".venv",
   "language": "python",
   "name": "python3"
  },
  "language_info": {
   "codemirror_mode": {
    "name": "ipython",
    "version": 3
   },
   "file_extension": ".py",
   "mimetype": "text/x-python",
   "name": "python",
   "nbconvert_exporter": "python",
   "pygments_lexer": "ipython3",
   "version": "3.10.12"
  }
 },
 "nbformat": 4,
 "nbformat_minor": 2
}
